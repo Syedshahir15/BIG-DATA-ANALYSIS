{
 "cells": [
  {
   "cell_type": "code",
   "execution_count": 1,
   "id": "915881a6-6007-41f5-ad56-31c6e4e62ce4",
   "metadata": {},
   "outputs": [
    {
     "name": "stderr",
     "output_type": "stream",
     "text": [
      "[nltk_data] Downloading package vader_lexicon to\n",
      "[nltk_data]     C:\\Users\\nissa\\AppData\\Roaming\\nltk_data...\n",
      "[nltk_data]   Package vader_lexicon is already up-to-date!\n"
     ]
    },
    {
     "data": {
      "text/plain": [
       "True"
      ]
     },
     "execution_count": 1,
     "metadata": {},
     "output_type": "execute_result"
    }
   ],
   "source": [
    "import nltk\n",
    "nltk.download('vader_lexicon')"
   ]
  },
  {
   "cell_type": "code",
   "execution_count": 2,
   "id": "8f15fcd1-3757-4840-aa66-777041867176",
   "metadata": {},
   "outputs": [],
   "source": [
    "from nltk.sentiment.vader import SentimentIntensityAnalyzer"
   ]
  },
  {
   "cell_type": "code",
   "execution_count": 3,
   "id": "800b3334-6dd7-4dc0-87ea-3ed6f4f398b2",
   "metadata": {},
   "outputs": [],
   "source": [
    "sia=SentimentIntensityAnalyzer()"
   ]
  },
  {
   "cell_type": "code",
   "execution_count": 4,
   "id": "e9e154fa-6fc0-48b5-9e33-a530a31470a9",
   "metadata": {},
   "outputs": [],
   "source": [
    "def analyze_sentiment(text):\n",
    "    score=sia.polarity_scores(text)['compound']\n",
    "    if score >= 0.05:\n",
    "        return \"Positive 😊\"\n",
    "    elif score <= -0.05:\n",
    "        return \"Negative 😠\"\n",
    "    else:\n",
    "        return \"Neutral 😐\""
   ]
  },
  {
   "cell_type": "code",
   "execution_count": null,
   "id": "9667da83-bb29-4c6d-899d-75a3d7423d84",
   "metadata": {},
   "outputs": [
    {
     "name": "stdout",
     "output_type": "stream",
     "text": [
      "💬Real-time Sentiment Analyzer(type 'exit' to stop)\n"
     ]
    },
    {
     "name": "stdin",
     "output_type": "stream",
     "text": [
      "Enter a sentence: love u brother\n"
     ]
    },
    {
     "name": "stdout",
     "output_type": "stream",
     "text": [
      "Sentiment:Positive 😊\n"
     ]
    },
    {
     "name": "stdin",
     "output_type": "stream",
     "text": [
      "Enter a sentence: hate u brother\n"
     ]
    },
    {
     "name": "stdout",
     "output_type": "stream",
     "text": [
      "Sentiment:Negative 😠\n"
     ]
    },
    {
     "name": "stdin",
     "output_type": "stream",
     "text": [
      "Enter a sentence: don't do it again\n"
     ]
    },
    {
     "name": "stdout",
     "output_type": "stream",
     "text": [
      "Sentiment:Neutral 😐\n"
     ]
    }
   ],
   "source": [
    "print(\"💬Real-time Sentiment Analyzer(type 'exit' to stop)\")\n",
    "while True:\n",
    "    user_input=input(\"Enter a sentence:\")\n",
    "    if user_input.lower()=='exit':\n",
    "        print(\"Goodbye!\")\n",
    "        break\n",
    "    sentiment=analyze_sentiment(user_input)\n",
    "    print(f\"Sentiment:{sentiment}\")"
   ]
  },
  {
   "cell_type": "code",
   "execution_count": null,
   "id": "bf0a2786-0f85-413d-9ea1-2cdfe677a00b",
   "metadata": {},
   "outputs": [],
   "source": []
  }
 ],
 "metadata": {
  "kernelspec": {
   "display_name": "Python [conda env:base] *",
   "language": "python",
   "name": "conda-base-py"
  },
  "language_info": {
   "codemirror_mode": {
    "name": "ipython",
    "version": 3
   },
   "file_extension": ".py",
   "mimetype": "text/x-python",
   "name": "python",
   "nbconvert_exporter": "python",
   "pygments_lexer": "ipython3",
   "version": "3.13.5"
  }
 },
 "nbformat": 4,
 "nbformat_minor": 5
}
