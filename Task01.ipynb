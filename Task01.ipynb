{
 "cells": [
  {
   "cell_type": "code",
   "execution_count": 1,
   "id": "4a977383-2365-4fd4-94ab-a4c5488821a0",
   "metadata": {},
   "outputs": [],
   "source": [
    "import pandas as pd\n",
    "import numpy as np\n",
    "import matplotlib.pyplot as plt\n",
    "import seaborn as sns\n",
    "%matplotlib inline"
   ]
  },
  {
   "cell_type": "code",
   "execution_count": 2,
   "id": "233911fb-2013-4f28-9886-dff8b24bf5c0",
   "metadata": {},
   "outputs": [
    {
     "data": {
      "text/html": [
       "<div>\n",
       "<style scoped>\n",
       "    .dataframe tbody tr th:only-of-type {\n",
       "        vertical-align: middle;\n",
       "    }\n",
       "\n",
       "    .dataframe tbody tr th {\n",
       "        vertical-align: top;\n",
       "    }\n",
       "\n",
       "    .dataframe thead th {\n",
       "        text-align: right;\n",
       "    }\n",
       "</style>\n",
       "<table border=\"1\" class=\"dataframe\">\n",
       "  <thead>\n",
       "    <tr style=\"text-align: right;\">\n",
       "      <th></th>\n",
       "      <th>name</th>\n",
       "      <th>description</th>\n",
       "      <th>make</th>\n",
       "      <th>model</th>\n",
       "      <th>year</th>\n",
       "      <th>price</th>\n",
       "      <th>engine</th>\n",
       "      <th>cylinders</th>\n",
       "      <th>fuel</th>\n",
       "      <th>mileage</th>\n",
       "      <th>transmission</th>\n",
       "      <th>trim</th>\n",
       "      <th>body</th>\n",
       "      <th>doors</th>\n",
       "      <th>exterior_color</th>\n",
       "      <th>interior_color</th>\n",
       "      <th>drivetrain</th>\n",
       "    </tr>\n",
       "  </thead>\n",
       "  <tbody>\n",
       "    <tr>\n",
       "      <th>0</th>\n",
       "      <td>2024 Jeep Wagoneer Series II</td>\n",
       "      <td>\\n      \\n        Heated Leather Seats, Nav Sy...</td>\n",
       "      <td>Jeep</td>\n",
       "      <td>Wagoneer</td>\n",
       "      <td>2024</td>\n",
       "      <td>74600.0</td>\n",
       "      <td>24V GDI DOHC Twin Turbo</td>\n",
       "      <td>6.0</td>\n",
       "      <td>Gasoline</td>\n",
       "      <td>10.0</td>\n",
       "      <td>8-Speed Automatic</td>\n",
       "      <td>Series II</td>\n",
       "      <td>SUV</td>\n",
       "      <td>4.0</td>\n",
       "      <td>White</td>\n",
       "      <td>Global Black</td>\n",
       "      <td>Four-wheel Drive</td>\n",
       "    </tr>\n",
       "    <tr>\n",
       "      <th>1</th>\n",
       "      <td>2024 Jeep Grand Cherokee Laredo</td>\n",
       "      <td>Al West is committed to offering every custome...</td>\n",
       "      <td>Jeep</td>\n",
       "      <td>Grand Cherokee</td>\n",
       "      <td>2024</td>\n",
       "      <td>50170.0</td>\n",
       "      <td>OHV</td>\n",
       "      <td>6.0</td>\n",
       "      <td>Gasoline</td>\n",
       "      <td>1.0</td>\n",
       "      <td>8-Speed Automatic</td>\n",
       "      <td>Laredo</td>\n",
       "      <td>SUV</td>\n",
       "      <td>4.0</td>\n",
       "      <td>Metallic</td>\n",
       "      <td>Global Black</td>\n",
       "      <td>Four-wheel Drive</td>\n",
       "    </tr>\n",
       "    <tr>\n",
       "      <th>2</th>\n",
       "      <td>2024 GMC Yukon XL Denali</td>\n",
       "      <td>NaN</td>\n",
       "      <td>GMC</td>\n",
       "      <td>Yukon XL</td>\n",
       "      <td>2024</td>\n",
       "      <td>96410.0</td>\n",
       "      <td>6.2L V-8 gasoline direct injection, variable v...</td>\n",
       "      <td>8.0</td>\n",
       "      <td>Gasoline</td>\n",
       "      <td>0.0</td>\n",
       "      <td>Automatic</td>\n",
       "      <td>Denali</td>\n",
       "      <td>SUV</td>\n",
       "      <td>4.0</td>\n",
       "      <td>Summit White</td>\n",
       "      <td>Teak/Light Shale</td>\n",
       "      <td>Four-wheel Drive</td>\n",
       "    </tr>\n",
       "    <tr>\n",
       "      <th>3</th>\n",
       "      <td>2023 Dodge Durango Pursuit</td>\n",
       "      <td>White Knuckle Clearcoat 2023 Dodge Durango Pur...</td>\n",
       "      <td>Dodge</td>\n",
       "      <td>Durango</td>\n",
       "      <td>2023</td>\n",
       "      <td>46835.0</td>\n",
       "      <td>16V MPFI OHV</td>\n",
       "      <td>8.0</td>\n",
       "      <td>Gasoline</td>\n",
       "      <td>32.0</td>\n",
       "      <td>8-Speed Automatic</td>\n",
       "      <td>Pursuit</td>\n",
       "      <td>SUV</td>\n",
       "      <td>4.0</td>\n",
       "      <td>White Knuckle Clearcoat</td>\n",
       "      <td>Black</td>\n",
       "      <td>All-wheel Drive</td>\n",
       "    </tr>\n",
       "    <tr>\n",
       "      <th>4</th>\n",
       "      <td>2024 RAM 3500 Laramie</td>\n",
       "      <td>\\n      \\n        2024 Ram 3500 Laramie Billet...</td>\n",
       "      <td>RAM</td>\n",
       "      <td>3500</td>\n",
       "      <td>2024</td>\n",
       "      <td>81663.0</td>\n",
       "      <td>24V DDI OHV Turbo Diesel</td>\n",
       "      <td>6.0</td>\n",
       "      <td>Diesel</td>\n",
       "      <td>10.0</td>\n",
       "      <td>6-Speed Automatic</td>\n",
       "      <td>Laramie</td>\n",
       "      <td>Pickup Truck</td>\n",
       "      <td>4.0</td>\n",
       "      <td>Silver</td>\n",
       "      <td>Black</td>\n",
       "      <td>Four-wheel Drive</td>\n",
       "    </tr>\n",
       "  </tbody>\n",
       "</table>\n",
       "</div>"
      ],
      "text/plain": [
       "                              name  \\\n",
       "0     2024 Jeep Wagoneer Series II   \n",
       "1  2024 Jeep Grand Cherokee Laredo   \n",
       "2         2024 GMC Yukon XL Denali   \n",
       "3       2023 Dodge Durango Pursuit   \n",
       "4            2024 RAM 3500 Laramie   \n",
       "\n",
       "                                         description   make           model  \\\n",
       "0  \\n      \\n        Heated Leather Seats, Nav Sy...   Jeep        Wagoneer   \n",
       "1  Al West is committed to offering every custome...   Jeep  Grand Cherokee   \n",
       "2                                                NaN    GMC        Yukon XL   \n",
       "3  White Knuckle Clearcoat 2023 Dodge Durango Pur...  Dodge         Durango   \n",
       "4  \\n      \\n        2024 Ram 3500 Laramie Billet...    RAM            3500   \n",
       "\n",
       "   year    price                                             engine  \\\n",
       "0  2024  74600.0                            24V GDI DOHC Twin Turbo   \n",
       "1  2024  50170.0                                                OHV   \n",
       "2  2024  96410.0  6.2L V-8 gasoline direct injection, variable v...   \n",
       "3  2023  46835.0                                       16V MPFI OHV   \n",
       "4  2024  81663.0                           24V DDI OHV Turbo Diesel   \n",
       "\n",
       "   cylinders      fuel  mileage       transmission       trim          body  \\\n",
       "0        6.0  Gasoline     10.0  8-Speed Automatic  Series II           SUV   \n",
       "1        6.0  Gasoline      1.0  8-Speed Automatic     Laredo           SUV   \n",
       "2        8.0  Gasoline      0.0          Automatic     Denali           SUV   \n",
       "3        8.0  Gasoline     32.0  8-Speed Automatic    Pursuit           SUV   \n",
       "4        6.0    Diesel     10.0  6-Speed Automatic    Laramie  Pickup Truck   \n",
       "\n",
       "   doors           exterior_color    interior_color        drivetrain  \n",
       "0    4.0                    White      Global Black  Four-wheel Drive  \n",
       "1    4.0                 Metallic      Global Black  Four-wheel Drive  \n",
       "2    4.0             Summit White  Teak/Light Shale  Four-wheel Drive  \n",
       "3    4.0  White Knuckle Clearcoat             Black   All-wheel Drive  \n",
       "4    4.0                   Silver             Black  Four-wheel Drive  "
      ]
     },
     "execution_count": 2,
     "metadata": {},
     "output_type": "execute_result"
    }
   ],
   "source": [
    "df=pd.read_csv('VehiclePrice.csv',encoding='latin-1')\n",
    "df.head()"
   ]
  },
  {
   "cell_type": "code",
   "execution_count": 3,
   "id": "7120c5cf-b0a6-4e98-ab9f-652ea2f8624a",
   "metadata": {},
   "outputs": [
    {
     "name": "stdout",
     "output_type": "stream",
     "text": [
      "                                                name  \\\n",
      "0                       2024 Jeep Wagoneer Series II   \n",
      "1                    2024 Jeep Grand Cherokee Laredo   \n",
      "2                           2024 GMC Yukon XL Denali   \n",
      "3                         2023 Dodge Durango Pursuit   \n",
      "4                              2024 RAM 3500 Laramie   \n",
      "...                                              ...   \n",
      "997   2024 Mercedes-Benz Sprinter 2500 Standard Roof   \n",
      "998           2024 Dodge Hornet Hornet R/T Plus Eawd   \n",
      "999                          2024 Jeep Wagoneer Base   \n",
      "1000           2024 Nissan Murano SV Intelligent AWD   \n",
      "1001                2024 Chevrolet Silverado 2500 WT   \n",
      "\n",
      "                                            description           make  \\\n",
      "0     \\n      \\n        Heated Leather Seats, Nav Sy...           Jeep   \n",
      "1     Al West is committed to offering every custome...           Jeep   \n",
      "2                                                   NaN            GMC   \n",
      "3     White Knuckle Clearcoat 2023 Dodge Durango Pur...          Dodge   \n",
      "4     \\n      \\n        2024 Ram 3500 Laramie Billet...            RAM   \n",
      "...                                                 ...            ...   \n",
      "997   2024 Mercedes-Benz Sprinter 2500 Cargo 144 WB ...  Mercedes-Benz   \n",
      "998   Dealer Comments +++ Price Ends 5/31/2024 +++ A...          Dodge   \n",
      "999   \\n      \\n        The ALL New Friendship CDJR ...           Jeep   \n",
      "1000  \\n      \\n        CVT with Xtronic, AWD.At Tod...         Nissan   \n",
      "1001  01u 2024 Chevrolet Silverado 2500HD Work Truck...      Chevrolet   \n",
      "\n",
      "               model  year    price  \\\n",
      "0           Wagoneer  2024  74600.0   \n",
      "1     Grand Cherokee  2024  50170.0   \n",
      "2           Yukon XL  2024  96410.0   \n",
      "3            Durango  2023  46835.0   \n",
      "4               3500  2024  81663.0   \n",
      "...              ...   ...      ...   \n",
      "997    Sprinter 2500  2024  59037.0   \n",
      "998           Hornet  2024  49720.0   \n",
      "999         Wagoneer  2024  69085.0   \n",
      "1000          Murano  2024  43495.0   \n",
      "1001  Silverado 2500  2024  48995.0   \n",
      "\n",
      "                                                 engine  cylinders      fuel  \\\n",
      "0                               24V GDI DOHC Twin Turbo        6.0  Gasoline   \n",
      "1                                                   OHV        6.0  Gasoline   \n",
      "2     6.2L V-8 gasoline direct injection, variable v...        8.0  Gasoline   \n",
      "3                                          16V MPFI OHV        8.0  Gasoline   \n",
      "4                              24V DDI OHV Turbo Diesel        6.0    Diesel   \n",
      "...                                                 ...        ...       ...   \n",
      "997                           16V DDI DOHC Turbo Diesel        4.0    Diesel   \n",
      "998   4 gasoline direct injection, DOHC, Multiair va...        4.0  Gasoline   \n",
      "999                             24V GDI DOHC Twin Turbo        6.0  Gasoline   \n",
      "1000  6 DOHC, variable valve control, regular unlead...        6.0  Gasoline   \n",
      "1001  8 gasoline direct injection, variable valve co...        8.0  Gasoline   \n",
      "\n",
      "      mileage                         transmission                  trim  \\\n",
      "0        10.0                    8-Speed Automatic             Series II   \n",
      "1         1.0                    8-Speed Automatic                Laredo   \n",
      "2         0.0                            Automatic                Denali   \n",
      "3        32.0                    8-Speed Automatic               Pursuit   \n",
      "4        10.0                    6-Speed Automatic               Laramie   \n",
      "...       ...                                  ...                   ...   \n",
      "997      10.0                    9-Speed Automatic         Standard Roof   \n",
      "998       0.0  6-Spd Aisin F21-250 PHEV Auto Trans  Hornet R/T Plus Eawd   \n",
      "999      20.0                    8-Speed Automatic                  Base   \n",
      "1000      6.0                            Automatic    SV Intelligent AWD   \n",
      "1001     31.0                            Automatic                    WT   \n",
      "\n",
      "              body  doors           exterior_color    interior_color  \\\n",
      "0              SUV    4.0                    White      Global Black   \n",
      "1              SUV    4.0                 Metallic      Global Black   \n",
      "2              SUV    4.0             Summit White  Teak/Light Shale   \n",
      "3              SUV    4.0  White Knuckle Clearcoat             Black   \n",
      "4     Pickup Truck    4.0                   Silver             Black   \n",
      "...            ...    ...                      ...               ...   \n",
      "997      Cargo Van    3.0             Arctic White             Black   \n",
      "998            SUV    4.0            Acapulco Gold             Black   \n",
      "999            SUV    4.0            Diamond Black             Black   \n",
      "1000           SUV    4.0      Pearl White Tricoat          Graphite   \n",
      "1001  Pickup Truck    4.0         Wheatland Yellow         Jet Black   \n",
      "\n",
      "            drivetrain  \n",
      "0     Four-wheel Drive  \n",
      "1     Four-wheel Drive  \n",
      "2     Four-wheel Drive  \n",
      "3      All-wheel Drive  \n",
      "4     Four-wheel Drive  \n",
      "...                ...  \n",
      "997   Rear-wheel Drive  \n",
      "998    All-wheel Drive  \n",
      "999   Four-wheel Drive  \n",
      "1000   All-wheel Drive  \n",
      "1001  Rear-wheel Drive  \n",
      "\n",
      "[1002 rows x 17 columns]\n"
     ]
    }
   ],
   "source": [
    "print(df)"
   ]
  },
  {
   "cell_type": "code",
   "execution_count": 4,
   "id": "4f7954e1-be41-461f-a537-78e6803157d9",
   "metadata": {},
   "outputs": [
    {
     "data": {
      "text/plain": [
       "Index(['name', 'description', 'make', 'model', 'year', 'price', 'engine',\n",
       "       'cylinders', 'fuel', 'mileage', 'transmission', 'trim', 'body', 'doors',\n",
       "       'exterior_color', 'interior_color', 'drivetrain'],\n",
       "      dtype='object')"
      ]
     },
     "execution_count": 4,
     "metadata": {},
     "output_type": "execute_result"
    }
   ],
   "source": [
    "df.columns"
   ]
  },
  {
   "cell_type": "code",
   "execution_count": 5,
   "id": "15fc5ddc-9dd8-42ee-a7c2-cfb23ae16eb8",
   "metadata": {},
   "outputs": [
    {
     "name": "stdout",
     "output_type": "stream",
     "text": [
      "<class 'pandas.core.frame.DataFrame'>\n",
      "RangeIndex: 1002 entries, 0 to 1001\n",
      "Data columns (total 17 columns):\n",
      " #   Column          Non-Null Count  Dtype  \n",
      "---  ------          --------------  -----  \n",
      " 0   name            1002 non-null   object \n",
      " 1   description     946 non-null    object \n",
      " 2   make            1002 non-null   object \n",
      " 3   model           1002 non-null   object \n",
      " 4   year            1002 non-null   int64  \n",
      " 5   price           979 non-null    float64\n",
      " 6   engine          1000 non-null   object \n",
      " 7   cylinders       897 non-null    float64\n",
      " 8   fuel            995 non-null    object \n",
      " 9   mileage         968 non-null    float64\n",
      " 10  transmission    1000 non-null   object \n",
      " 11  trim            1001 non-null   object \n",
      " 12  body            999 non-null    object \n",
      " 13  doors           995 non-null    float64\n",
      " 14  exterior_color  997 non-null    object \n",
      " 15  interior_color  964 non-null    object \n",
      " 16  drivetrain      1002 non-null   object \n",
      "dtypes: float64(4), int64(1), object(12)\n",
      "memory usage: 133.2+ KB\n"
     ]
    }
   ],
   "source": [
    "df.info()"
   ]
  },
  {
   "cell_type": "code",
   "execution_count": 6,
   "id": "fea31a69-eb94-461b-aa3f-38c89d1627d3",
   "metadata": {},
   "outputs": [
    {
     "data": {
      "text/html": [
       "<div>\n",
       "<style scoped>\n",
       "    .dataframe tbody tr th:only-of-type {\n",
       "        vertical-align: middle;\n",
       "    }\n",
       "\n",
       "    .dataframe tbody tr th {\n",
       "        vertical-align: top;\n",
       "    }\n",
       "\n",
       "    .dataframe thead th {\n",
       "        text-align: right;\n",
       "    }\n",
       "</style>\n",
       "<table border=\"1\" class=\"dataframe\">\n",
       "  <thead>\n",
       "    <tr style=\"text-align: right;\">\n",
       "      <th></th>\n",
       "      <th>year</th>\n",
       "      <th>price</th>\n",
       "      <th>cylinders</th>\n",
       "      <th>mileage</th>\n",
       "      <th>doors</th>\n",
       "    </tr>\n",
       "  </thead>\n",
       "  <tbody>\n",
       "    <tr>\n",
       "      <th>count</th>\n",
       "      <td>1002.000000</td>\n",
       "      <td>979.000000</td>\n",
       "      <td>897.000000</td>\n",
       "      <td>968.000000</td>\n",
       "      <td>995.000000</td>\n",
       "    </tr>\n",
       "    <tr>\n",
       "      <th>mean</th>\n",
       "      <td>2023.916168</td>\n",
       "      <td>50202.985700</td>\n",
       "      <td>4.975474</td>\n",
       "      <td>69.033058</td>\n",
       "      <td>3.943719</td>\n",
       "    </tr>\n",
       "    <tr>\n",
       "      <th>std</th>\n",
       "      <td>0.298109</td>\n",
       "      <td>18700.392062</td>\n",
       "      <td>1.392526</td>\n",
       "      <td>507.435745</td>\n",
       "      <td>0.274409</td>\n",
       "    </tr>\n",
       "    <tr>\n",
       "      <th>min</th>\n",
       "      <td>2023.000000</td>\n",
       "      <td>0.000000</td>\n",
       "      <td>0.000000</td>\n",
       "      <td>0.000000</td>\n",
       "      <td>2.000000</td>\n",
       "    </tr>\n",
       "    <tr>\n",
       "      <th>25%</th>\n",
       "      <td>2024.000000</td>\n",
       "      <td>36600.000000</td>\n",
       "      <td>4.000000</td>\n",
       "      <td>4.000000</td>\n",
       "      <td>4.000000</td>\n",
       "    </tr>\n",
       "    <tr>\n",
       "      <th>50%</th>\n",
       "      <td>2024.000000</td>\n",
       "      <td>47165.000000</td>\n",
       "      <td>4.000000</td>\n",
       "      <td>8.000000</td>\n",
       "      <td>4.000000</td>\n",
       "    </tr>\n",
       "    <tr>\n",
       "      <th>75%</th>\n",
       "      <td>2024.000000</td>\n",
       "      <td>58919.500000</td>\n",
       "      <td>6.000000</td>\n",
       "      <td>13.000000</td>\n",
       "      <td>4.000000</td>\n",
       "    </tr>\n",
       "    <tr>\n",
       "      <th>max</th>\n",
       "      <td>2025.000000</td>\n",
       "      <td>195895.000000</td>\n",
       "      <td>8.000000</td>\n",
       "      <td>9711.000000</td>\n",
       "      <td>5.000000</td>\n",
       "    </tr>\n",
       "  </tbody>\n",
       "</table>\n",
       "</div>"
      ],
      "text/plain": [
       "              year          price   cylinders      mileage       doors\n",
       "count  1002.000000     979.000000  897.000000   968.000000  995.000000\n",
       "mean   2023.916168   50202.985700    4.975474    69.033058    3.943719\n",
       "std       0.298109   18700.392062    1.392526   507.435745    0.274409\n",
       "min    2023.000000       0.000000    0.000000     0.000000    2.000000\n",
       "25%    2024.000000   36600.000000    4.000000     4.000000    4.000000\n",
       "50%    2024.000000   47165.000000    4.000000     8.000000    4.000000\n",
       "75%    2024.000000   58919.500000    6.000000    13.000000    4.000000\n",
       "max    2025.000000  195895.000000    8.000000  9711.000000    5.000000"
      ]
     },
     "execution_count": 6,
     "metadata": {},
     "output_type": "execute_result"
    }
   ],
   "source": [
    "df.describe()"
   ]
  },
  {
   "cell_type": "code",
   "execution_count": 7,
   "id": "8bd45fb6-e286-4842-83a6-8415043d4388",
   "metadata": {},
   "outputs": [
    {
     "data": {
      "text/plain": [
       "name                0\n",
       "description        56\n",
       "make                0\n",
       "model               0\n",
       "year                0\n",
       "price              23\n",
       "engine              2\n",
       "cylinders         105\n",
       "fuel                7\n",
       "mileage            34\n",
       "transmission        2\n",
       "trim                1\n",
       "body                3\n",
       "doors               7\n",
       "exterior_color      5\n",
       "interior_color     38\n",
       "drivetrain          0\n",
       "dtype: int64"
      ]
     },
     "execution_count": 7,
     "metadata": {},
     "output_type": "execute_result"
    }
   ],
   "source": [
    "df.isnull().sum()"
   ]
  },
  {
   "cell_type": "code",
   "execution_count": 8,
   "id": "3900b32a-5eaf-407f-8c8e-61d8289b9570",
   "metadata": {},
   "outputs": [
    {
     "data": {
      "text/plain": [
       "(1002, 17)"
      ]
     },
     "execution_count": 8,
     "metadata": {},
     "output_type": "execute_result"
    }
   ],
   "source": [
    "df.shape"
   ]
  },
  {
   "cell_type": "code",
   "execution_count": 9,
   "id": "1dcc8e12-9c89-4f7c-ae51-9c78cf66daa2",
   "metadata": {},
   "outputs": [
    {
     "data": {
      "text/plain": [
       "['description',\n",
       " 'price',\n",
       " 'engine',\n",
       " 'cylinders',\n",
       " 'fuel',\n",
       " 'mileage',\n",
       " 'transmission',\n",
       " 'trim',\n",
       " 'body',\n",
       " 'doors',\n",
       " 'exterior_color',\n",
       " 'interior_color']"
      ]
     },
     "execution_count": 9,
     "metadata": {},
     "output_type": "execute_result"
    }
   ],
   "source": [
    "[features for features in df.columns if df[features].isnull().sum()>0]"
   ]
  },
  {
   "cell_type": "code",
   "execution_count": 10,
   "id": "ff8f0792-b32b-454e-9b11-aac0db05489e",
   "metadata": {},
   "outputs": [
    {
     "data": {
      "text/plain": [
       "<Axes: >"
      ]
     },
     "execution_count": 10,
     "metadata": {},
     "output_type": "execute_result"
    },
    {
     "data": {
      "image/png": "[encoded data removed]",
      "text/plain": [
       "<Figure size 640x480 with 1 Axes>"
      ]
     },
     "metadata": {},
     "output_type": "display_data"
    }
   ],
   "source": [
    "sns.heatmap(df.isnull(),yticklabels=False,cbar=False,cmap='viridis')"
   ]
  },
  {
   "cell_type": "code",
   "execution_count": 11,
   "id": "d2aa05d0-7aa8-4357-9db3-d347e1e14659",
   "metadata": {},
   "outputs": [
    {
     "data": {
      "text/html": [
       "<div>\n",
       "<style scoped>\n",
       "    .dataframe tbody tr th:only-of-type {\n",
       "        vertical-align: middle;\n",
       "    }\n",
       "\n",
       "    .dataframe tbody tr th {\n",
       "        vertical-align: top;\n",
       "    }\n",
       "\n",
       "    .dataframe thead th {\n",
       "        text-align: right;\n",
       "    }\n",
       "</style>\n",
       "<table border=\"1\" class=\"dataframe\">\n",
       "  <thead>\n",
       "    <tr style=\"text-align: right;\">\n",
       "      <th></th>\n",
       "      <th>name</th>\n",
       "      <th>description</th>\n",
       "      <th>make</th>\n",
       "      <th>model</th>\n",
       "      <th>year</th>\n",
       "      <th>price</th>\n",
       "      <th>engine</th>\n",
       "      <th>cylinders</th>\n",
       "      <th>fuel</th>\n",
       "      <th>mileage</th>\n",
       "      <th>transmission</th>\n",
       "      <th>trim</th>\n",
       "      <th>body</th>\n",
       "      <th>doors</th>\n",
       "      <th>exterior_color</th>\n",
       "      <th>interior_color</th>\n",
       "      <th>drivetrain</th>\n",
       "    </tr>\n",
       "  </thead>\n",
       "  <tbody>\n",
       "    <tr>\n",
       "      <th>0</th>\n",
       "      <td>2024 Jeep Wagoneer Series II</td>\n",
       "      <td>\\n      \\n        Heated Leather Seats, Nav Sy...</td>\n",
       "      <td>Jeep</td>\n",
       "      <td>Wagoneer</td>\n",
       "      <td>2024</td>\n",
       "      <td>74600.0</td>\n",
       "      <td>24V GDI DOHC Twin Turbo</td>\n",
       "      <td>6.0</td>\n",
       "      <td>Gasoline</td>\n",
       "      <td>10.0</td>\n",
       "      <td>8-Speed Automatic</td>\n",
       "      <td>Series II</td>\n",
       "      <td>SUV</td>\n",
       "      <td>4.0</td>\n",
       "      <td>White</td>\n",
       "      <td>Global Black</td>\n",
       "      <td>Four-wheel Drive</td>\n",
       "    </tr>\n",
       "    <tr>\n",
       "      <th>1</th>\n",
       "      <td>2024 Jeep Grand Cherokee Laredo</td>\n",
       "      <td>Al West is committed to offering every custome...</td>\n",
       "      <td>Jeep</td>\n",
       "      <td>Grand Cherokee</td>\n",
       "      <td>2024</td>\n",
       "      <td>50170.0</td>\n",
       "      <td>OHV</td>\n",
       "      <td>6.0</td>\n",
       "      <td>Gasoline</td>\n",
       "      <td>1.0</td>\n",
       "      <td>8-Speed Automatic</td>\n",
       "      <td>Laredo</td>\n",
       "      <td>SUV</td>\n",
       "      <td>4.0</td>\n",
       "      <td>Metallic</td>\n",
       "      <td>Global Black</td>\n",
       "      <td>Four-wheel Drive</td>\n",
       "    </tr>\n",
       "    <tr>\n",
       "      <th>2</th>\n",
       "      <td>2024 GMC Yukon XL Denali</td>\n",
       "      <td>NaN</td>\n",
       "      <td>GMC</td>\n",
       "      <td>Yukon XL</td>\n",
       "      <td>2024</td>\n",
       "      <td>96410.0</td>\n",
       "      <td>6.2L V-8 gasoline direct injection, variable v...</td>\n",
       "      <td>8.0</td>\n",
       "      <td>Gasoline</td>\n",
       "      <td>0.0</td>\n",
       "      <td>Automatic</td>\n",
       "      <td>Denali</td>\n",
       "      <td>SUV</td>\n",
       "      <td>4.0</td>\n",
       "      <td>Summit White</td>\n",
       "      <td>Teak/Light Shale</td>\n",
       "      <td>Four-wheel Drive</td>\n",
       "    </tr>\n",
       "    <tr>\n",
       "      <th>3</th>\n",
       "      <td>2023 Dodge Durango Pursuit</td>\n",
       "      <td>White Knuckle Clearcoat 2023 Dodge Durango Pur...</td>\n",
       "      <td>Dodge</td>\n",
       "      <td>Durango</td>\n",
       "      <td>2023</td>\n",
       "      <td>46835.0</td>\n",
       "      <td>16V MPFI OHV</td>\n",
       "      <td>8.0</td>\n",
       "      <td>Gasoline</td>\n",
       "      <td>32.0</td>\n",
       "      <td>8-Speed Automatic</td>\n",
       "      <td>Pursuit</td>\n",
       "      <td>SUV</td>\n",
       "      <td>4.0</td>\n",
       "      <td>White Knuckle Clearcoat</td>\n",
       "      <td>Black</td>\n",
       "      <td>All-wheel Drive</td>\n",
       "    </tr>\n",
       "    <tr>\n",
       "      <th>4</th>\n",
       "      <td>2024 RAM 3500 Laramie</td>\n",
       "      <td>\\n      \\n        2024 Ram 3500 Laramie Billet...</td>\n",
       "      <td>RAM</td>\n",
       "      <td>3500</td>\n",
       "      <td>2024</td>\n",
       "      <td>81663.0</td>\n",
       "      <td>24V DDI OHV Turbo Diesel</td>\n",
       "      <td>6.0</td>\n",
       "      <td>Diesel</td>\n",
       "      <td>10.0</td>\n",
       "      <td>6-Speed Automatic</td>\n",
       "      <td>Laramie</td>\n",
       "      <td>Pickup Truck</td>\n",
       "      <td>4.0</td>\n",
       "      <td>Silver</td>\n",
       "      <td>Black</td>\n",
       "      <td>Four-wheel Drive</td>\n",
       "    </tr>\n",
       "  </tbody>\n",
       "</table>\n",
       "</div>"
      ],
      "text/plain": [
       "                              name  \\\n",
       "0     2024 Jeep Wagoneer Series II   \n",
       "1  2024 Jeep Grand Cherokee Laredo   \n",
       "2         2024 GMC Yukon XL Denali   \n",
       "3       2023 Dodge Durango Pursuit   \n",
       "4            2024 RAM 3500 Laramie   \n",
       "\n",
       "                                         description   make           model  \\\n",
       "0  \\n      \\n        Heated Leather Seats, Nav Sy...   Jeep        Wagoneer   \n",
       "1  Al West is committed to offering every custome...   Jeep  Grand Cherokee   \n",
       "2                                                NaN    GMC        Yukon XL   \n",
       "3  White Knuckle Clearcoat 2023 Dodge Durango Pur...  Dodge         Durango   \n",
       "4  \\n      \\n        2024 Ram 3500 Laramie Billet...    RAM            3500   \n",
       "\n",
       "   year    price                                             engine  \\\n",
       "0  2024  74600.0                            24V GDI DOHC Twin Turbo   \n",
       "1  2024  50170.0                                                OHV   \n",
       "2  2024  96410.0  6.2L V-8 gasoline direct injection, variable v...   \n",
       "3  2023  46835.0                                       16V MPFI OHV   \n",
       "4  2024  81663.0                           24V DDI OHV Turbo Diesel   \n",
       "\n",
       "   cylinders      fuel  mileage       transmission       trim          body  \\\n",
       "0        6.0  Gasoline     10.0  8-Speed Automatic  Series II           SUV   \n",
       "1        6.0  Gasoline      1.0  8-Speed Automatic     Laredo           SUV   \n",
       "2        8.0  Gasoline      0.0          Automatic     Denali           SUV   \n",
       "3        8.0  Gasoline     32.0  8-Speed Automatic    Pursuit           SUV   \n",
       "4        6.0    Diesel     10.0  6-Speed Automatic    Laramie  Pickup Truck   \n",
       "\n",
       "   doors           exterior_color    interior_color        drivetrain  \n",
       "0    4.0                    White      Global Black  Four-wheel Drive  \n",
       "1    4.0                 Metallic      Global Black  Four-wheel Drive  \n",
       "2    4.0             Summit White  Teak/Light Shale  Four-wheel Drive  \n",
       "3    4.0  White Knuckle Clearcoat             Black   All-wheel Drive  \n",
       "4    4.0                   Silver             Black  Four-wheel Drive  "
      ]
     },
     "execution_count": 11,
     "metadata": {},
     "output_type": "execute_result"
    }
   ],
   "source": [
    "df_year=pd.read_csv('VehiclePrice.csv')\n",
    "df_year.head()"
   ]
  },
  {
   "cell_type": "code",
   "execution_count": 12,
   "id": "4b7c04f4-94d2-45b0-902e-b6527c984893",
   "metadata": {},
   "outputs": [
    {
     "data": {
      "text/plain": [
       "year\n",
       "2024    906\n",
       "2023     90\n",
       "2025      6\n",
       "Name: count, dtype: int64"
      ]
     },
     "execution_count": 12,
     "metadata": {},
     "output_type": "execute_result"
    }
   ],
   "source": [
    "df.year.value_counts()"
   ]
  },
  {
   "cell_type": "code",
   "execution_count": 13,
   "id": "f2bbdbfc-d1b2-4cbb-b891-4e24d041d250",
   "metadata": {},
   "outputs": [
    {
     "data": {
      "text/plain": [
       "Index([2024, 2023, 2025], dtype='int64', name='year')"
      ]
     },
     "execution_count": 13,
     "metadata": {},
     "output_type": "execute_result"
    }
   ],
   "source": [
    "df.year.value_counts().index"
   ]
  },
  {
   "cell_type": "code",
   "execution_count": 14,
   "id": "6ccdbb06-d10b-474b-9a92-cf2c1e87d0e4",
   "metadata": {},
   "outputs": [],
   "source": [
    "cars_names=df.year.value_counts().index"
   ]
  },
  {
   "cell_type": "code",
   "execution_count": 16,
   "id": "ccdb814e-01ab-4f36-b066-f9370561f876",
   "metadata": {},
   "outputs": [
    {
     "data": {
      "text/plain": [
       "array([906,  90,   6])"
      ]
     },
     "execution_count": 16,
     "metadata": {},
     "output_type": "execute_result"
    }
   ],
   "source": [
    "df.year.value_counts().values"
   ]
  },
  {
   "cell_type": "code",
   "execution_count": 17,
   "id": "bd1d2ce5-9c7f-46b9-aa4b-89dbb6f826fc",
   "metadata": {},
   "outputs": [],
   "source": [
    "cars_val=df.year.value_counts().values"
   ]
  },
  {
   "cell_type": "code",
   "execution_count": 18,
   "id": "fe634ce2-6ef5-4d50-ad8e-8463818b0e83",
   "metadata": {},
   "outputs": [
    {
     "data": {
      "text/plain": [
       "([<matplotlib.patches.Wedge at 0x19fc7c8f4d0>,\n",
       "  <matplotlib.patches.Wedge at 0x19fc9ec5310>,\n",
       "  <matplotlib.patches.Wedge at 0x19fc9ec56d0>],\n",
       " [Text(-1.0505475627264862, 0.32611319882740086, '2024'),\n",
       "  Text(1.0442272492905667, -0.3458170785820983, '2023'),\n",
       "  Text(1.0998053752697758, -0.020691460260407152, '2025')])"
      ]
     },
     "execution_count": 18,
     "metadata": {},
     "output_type": "execute_result"
    },
    {
     "data": {
      "image/png": "[encoded data removed]",
      "text/plain": [
       "<Figure size 640x480 with 1 Axes>"
      ]
     },
     "metadata": {},
     "output_type": "display_data"
    }
   ],
   "source": [
    "plt.pie(cars_val,labels=cars_names)"
   ]
  },
  {
   "cell_type": "code",
   "execution_count": 19,
   "id": "1b674ae7-6b90-4e40-a0a2-069505ba0a5b",
   "metadata": {},
   "outputs": [
    {
     "data": {
      "text/plain": [
       "([<matplotlib.patches.Wedge at 0x19fc9f31590>,\n",
       "  <matplotlib.patches.Wedge at 0x19fc9f31810>,\n",
       "  <matplotlib.patches.Wedge at 0x19fc9f31a90>],\n",
       " [Text(-1.0505475627264862, 0.32611319882740086, '2024'),\n",
       "  Text(1.0442272492905667, -0.3458170785820983, '2023'),\n",
       "  Text(1.0998053752697758, -0.020691460260407152, '2025')])"
      ]
     },
     "execution_count": 19,
     "metadata": {},
     "output_type": "execute_result"
    },
    {
     "data": {
      "image/png": "[encoded data removed]",
      "text/plain": [
       "<Figure size 640x480 with 1 Axes>"
      ]
     },
     "metadata": {},
     "output_type": "display_data"
    }
   ],
   "source": [
    "plt.pie(cars_val[:3],labels=cars_names[:3])"
   ]
  },
  {
   "cell_type": "code",
   "execution_count": 20,
   "id": "99a55b52-9728-47fa-a519-5ce2986b85c8",
   "metadata": {},
   "outputs": [
    {
     "data": {
      "text/plain": [
       "([<matplotlib.patches.Wedge at 0x19fc9d39090>,\n",
       "  <matplotlib.patches.Wedge at 0x19fc9d39450>,\n",
       "  <matplotlib.patches.Wedge at 0x19fc9d39810>],\n",
       " [Text(-1.0505475627264862, 0.32611319882740086, '2024'),\n",
       "  Text(1.0442272492905667, -0.3458170785820983, '2023'),\n",
       "  Text(1.0998053752697758, -0.020691460260407152, '2025')],\n",
       " [Text(-0.5730259433053561, 0.1778799266331277, '90.42%'),\n",
       "  Text(0.5695784996130363, -0.18862749740841725, '8.98%'),\n",
       "  Text(0.5998938410562412, -0.011286251051131173, '0.60%')])"
      ]
     },
     "execution_count": 20,
     "metadata": {},
     "output_type": "execute_result"
    },
    {
     "data": {
      "image/png": "[encoded data removed]",
      "text/plain": [
       "<Figure size 640x480 with 1 Axes>"
      ]
     },
     "metadata": {},
     "output_type": "display_data"
    }
   ],
   "source": [
    "plt.pie(cars_val,labels=cars_names,autopct='%1.2f%%')"
   ]
  },
  {
   "cell_type": "code",
   "execution_count": 21,
   "id": "f453da67-5337-47ad-92b3-808e67631df2",
   "metadata": {},
   "outputs": [
    {
     "data": {
      "text/plain": [
       "Index(['name', 'description', 'make', 'model', 'year', 'price', 'engine',\n",
       "       'cylinders', 'fuel', 'mileage', 'transmission', 'trim', 'body', 'doors',\n",
       "       'exterior_color', 'interior_color', 'drivetrain'],\n",
       "      dtype='object')"
      ]
     },
     "execution_count": 21,
     "metadata": {},
     "output_type": "execute_result"
    }
   ],
   "source": [
    "df.columns"
   ]
  },
  {
   "cell_type": "code",
   "execution_count": 22,
   "id": "5388784f-f71a-4975-a9f6-c7f0b43196b2",
   "metadata": {},
   "outputs": [
    {
     "data": {
      "text/plain": [
       "doors  year  trim               \n",
       "2.0    2023  Grand Touring          1\n",
       "             Tradesman              1\n",
       "       2024  P400 X-Dynamic SE      1\n",
       "             Pro                    2\n",
       "             Tradesman              3\n",
       "                                   ..\n",
       "4.0    2024  xDrive40i              3\n",
       "       2025  3.3 Turbo S Premium    1\n",
       "             Platinum               1\n",
       "             xDrive40i              1\n",
       "5.0    2024  EV400 R-Dynamic HSE    1\n",
       "Length: 224, dtype: int64"
      ]
     },
     "execution_count": 22,
     "metadata": {},
     "output_type": "execute_result"
    }
   ],
   "source": [
    "df.groupby(['doors','year','trim']).size()"
   ]
  },
  {
   "cell_type": "code",
   "execution_count": 23,
   "id": "2aee4fea-c2bc-43e2-8631-002bdef60c0d",
   "metadata": {},
   "outputs": [
    {
     "data": {
      "text/html": [
       "<div>\n",
       "<style scoped>\n",
       "    .dataframe tbody tr th:only-of-type {\n",
       "        vertical-align: middle;\n",
       "    }\n",
       "\n",
       "    .dataframe tbody tr th {\n",
       "        vertical-align: top;\n",
       "    }\n",
       "\n",
       "    .dataframe thead th {\n",
       "        text-align: right;\n",
       "    }\n",
       "</style>\n",
       "<table border=\"1\" class=\"dataframe\">\n",
       "  <thead>\n",
       "    <tr style=\"text-align: right;\">\n",
       "      <th></th>\n",
       "      <th>doors</th>\n",
       "      <th>year</th>\n",
       "      <th>trim</th>\n",
       "      <th>0</th>\n",
       "    </tr>\n",
       "  </thead>\n",
       "  <tbody>\n",
       "    <tr>\n",
       "      <th>0</th>\n",
       "      <td>2.0</td>\n",
       "      <td>2023</td>\n",
       "      <td>Grand Touring</td>\n",
       "      <td>1</td>\n",
       "    </tr>\n",
       "    <tr>\n",
       "      <th>1</th>\n",
       "      <td>2.0</td>\n",
       "      <td>2023</td>\n",
       "      <td>Tradesman</td>\n",
       "      <td>1</td>\n",
       "    </tr>\n",
       "    <tr>\n",
       "      <th>2</th>\n",
       "      <td>2.0</td>\n",
       "      <td>2024</td>\n",
       "      <td>P400 X-Dynamic SE</td>\n",
       "      <td>1</td>\n",
       "    </tr>\n",
       "    <tr>\n",
       "      <th>3</th>\n",
       "      <td>2.0</td>\n",
       "      <td>2024</td>\n",
       "      <td>Pro</td>\n",
       "      <td>2</td>\n",
       "    </tr>\n",
       "    <tr>\n",
       "      <th>4</th>\n",
       "      <td>2.0</td>\n",
       "      <td>2024</td>\n",
       "      <td>Tradesman</td>\n",
       "      <td>3</td>\n",
       "    </tr>\n",
       "    <tr>\n",
       "      <th>...</th>\n",
       "      <td>...</td>\n",
       "      <td>...</td>\n",
       "      <td>...</td>\n",
       "      <td>...</td>\n",
       "    </tr>\n",
       "    <tr>\n",
       "      <th>219</th>\n",
       "      <td>4.0</td>\n",
       "      <td>2024</td>\n",
       "      <td>xDrive40i</td>\n",
       "      <td>3</td>\n",
       "    </tr>\n",
       "    <tr>\n",
       "      <th>220</th>\n",
       "      <td>4.0</td>\n",
       "      <td>2025</td>\n",
       "      <td>3.3 Turbo S Premium</td>\n",
       "      <td>1</td>\n",
       "    </tr>\n",
       "    <tr>\n",
       "      <th>221</th>\n",
       "      <td>4.0</td>\n",
       "      <td>2025</td>\n",
       "      <td>Platinum</td>\n",
       "      <td>1</td>\n",
       "    </tr>\n",
       "    <tr>\n",
       "      <th>222</th>\n",
       "      <td>4.0</td>\n",
       "      <td>2025</td>\n",
       "      <td>xDrive40i</td>\n",
       "      <td>1</td>\n",
       "    </tr>\n",
       "    <tr>\n",
       "      <th>223</th>\n",
       "      <td>5.0</td>\n",
       "      <td>2024</td>\n",
       "      <td>EV400 R-Dynamic HSE</td>\n",
       "      <td>1</td>\n",
       "    </tr>\n",
       "  </tbody>\n",
       "</table>\n",
       "<p>224 rows × 4 columns</p>\n",
       "</div>"
      ],
      "text/plain": [
       "     doors  year                 trim  0\n",
       "0      2.0  2023        Grand Touring  1\n",
       "1      2.0  2023            Tradesman  1\n",
       "2      2.0  2024    P400 X-Dynamic SE  1\n",
       "3      2.0  2024                  Pro  2\n",
       "4      2.0  2024            Tradesman  3\n",
       "..     ...   ...                  ... ..\n",
       "219    4.0  2024            xDrive40i  3\n",
       "220    4.0  2025  3.3 Turbo S Premium  1\n",
       "221    4.0  2025             Platinum  1\n",
       "222    4.0  2025            xDrive40i  1\n",
       "223    5.0  2024  EV400 R-Dynamic HSE  1\n",
       "\n",
       "[224 rows x 4 columns]"
      ]
     },
     "execution_count": 23,
     "metadata": {},
     "output_type": "execute_result"
    }
   ],
   "source": [
    "df.groupby(['doors','year','trim']).size().reset_index()"
   ]
  },
  {
   "cell_type": "code",
   "execution_count": 24,
   "id": "240b13b1-90a6-43ba-bcc1-a5c77ae4a1db",
   "metadata": {},
   "outputs": [
    {
     "data": {
      "text/html": [
       "<div>\n",
       "<style scoped>\n",
       "    .dataframe tbody tr th:only-of-type {\n",
       "        vertical-align: middle;\n",
       "    }\n",
       "\n",
       "    .dataframe tbody tr th {\n",
       "        vertical-align: top;\n",
       "    }\n",
       "\n",
       "    .dataframe thead th {\n",
       "        text-align: right;\n",
       "    }\n",
       "</style>\n",
       "<table border=\"1\" class=\"dataframe\">\n",
       "  <thead>\n",
       "    <tr style=\"text-align: right;\">\n",
       "      <th></th>\n",
       "      <th>doors</th>\n",
       "      <th>year</th>\n",
       "      <th>trim</th>\n",
       "      <th>Count</th>\n",
       "    </tr>\n",
       "  </thead>\n",
       "  <tbody>\n",
       "    <tr>\n",
       "      <th>0</th>\n",
       "      <td>2.0</td>\n",
       "      <td>2023</td>\n",
       "      <td>Grand Touring</td>\n",
       "      <td>1</td>\n",
       "    </tr>\n",
       "    <tr>\n",
       "      <th>1</th>\n",
       "      <td>2.0</td>\n",
       "      <td>2023</td>\n",
       "      <td>Tradesman</td>\n",
       "      <td>1</td>\n",
       "    </tr>\n",
       "    <tr>\n",
       "      <th>2</th>\n",
       "      <td>2.0</td>\n",
       "      <td>2024</td>\n",
       "      <td>P400 X-Dynamic SE</td>\n",
       "      <td>1</td>\n",
       "    </tr>\n",
       "    <tr>\n",
       "      <th>3</th>\n",
       "      <td>2.0</td>\n",
       "      <td>2024</td>\n",
       "      <td>Pro</td>\n",
       "      <td>2</td>\n",
       "    </tr>\n",
       "    <tr>\n",
       "      <th>4</th>\n",
       "      <td>2.0</td>\n",
       "      <td>2024</td>\n",
       "      <td>Tradesman</td>\n",
       "      <td>3</td>\n",
       "    </tr>\n",
       "    <tr>\n",
       "      <th>...</th>\n",
       "      <td>...</td>\n",
       "      <td>...</td>\n",
       "      <td>...</td>\n",
       "      <td>...</td>\n",
       "    </tr>\n",
       "    <tr>\n",
       "      <th>219</th>\n",
       "      <td>4.0</td>\n",
       "      <td>2024</td>\n",
       "      <td>xDrive40i</td>\n",
       "      <td>3</td>\n",
       "    </tr>\n",
       "    <tr>\n",
       "      <th>220</th>\n",
       "      <td>4.0</td>\n",
       "      <td>2025</td>\n",
       "      <td>3.3 Turbo S Premium</td>\n",
       "      <td>1</td>\n",
       "    </tr>\n",
       "    <tr>\n",
       "      <th>221</th>\n",
       "      <td>4.0</td>\n",
       "      <td>2025</td>\n",
       "      <td>Platinum</td>\n",
       "      <td>1</td>\n",
       "    </tr>\n",
       "    <tr>\n",
       "      <th>222</th>\n",
       "      <td>4.0</td>\n",
       "      <td>2025</td>\n",
       "      <td>xDrive40i</td>\n",
       "      <td>1</td>\n",
       "    </tr>\n",
       "    <tr>\n",
       "      <th>223</th>\n",
       "      <td>5.0</td>\n",
       "      <td>2024</td>\n",
       "      <td>EV400 R-Dynamic HSE</td>\n",
       "      <td>1</td>\n",
       "    </tr>\n",
       "  </tbody>\n",
       "</table>\n",
       "<p>224 rows × 4 columns</p>\n",
       "</div>"
      ],
      "text/plain": [
       "     doors  year                 trim  Count\n",
       "0      2.0  2023        Grand Touring      1\n",
       "1      2.0  2023            Tradesman      1\n",
       "2      2.0  2024    P400 X-Dynamic SE      1\n",
       "3      2.0  2024                  Pro      2\n",
       "4      2.0  2024            Tradesman      3\n",
       "..     ...   ...                  ...    ...\n",
       "219    4.0  2024            xDrive40i      3\n",
       "220    4.0  2025  3.3 Turbo S Premium      1\n",
       "221    4.0  2025             Platinum      1\n",
       "222    4.0  2025            xDrive40i      1\n",
       "223    5.0  2024  EV400 R-Dynamic HSE      1\n",
       "\n",
       "[224 rows x 4 columns]"
      ]
     },
     "execution_count": 24,
     "metadata": {},
     "output_type": "execute_result"
    }
   ],
   "source": [
    "df.groupby(['doors','year','trim']).size().reset_index().rename(columns={0:'Count'})"
   ]
  },
  {
   "cell_type": "code",
   "execution_count": 25,
   "id": "edee8df0-2939-4788-942a-2502c498786b",
   "metadata": {},
   "outputs": [],
   "source": [
    "ratings=df.groupby(['doors','year','trim']).size().reset_index().rename(columns={0:'Count'})"
   ]
  },
  {
   "cell_type": "code",
   "execution_count": 26,
   "id": "6873d399-44ba-45c6-bc74-a7a7f7d8319d",
   "metadata": {},
   "outputs": [
    {
     "data": {
      "text/html": [
       "<div>\n",
       "<style scoped>\n",
       "    .dataframe tbody tr th:only-of-type {\n",
       "        vertical-align: middle;\n",
       "    }\n",
       "\n",
       "    .dataframe tbody tr th {\n",
       "        vertical-align: top;\n",
       "    }\n",
       "\n",
       "    .dataframe thead th {\n",
       "        text-align: right;\n",
       "    }\n",
       "</style>\n",
       "<table border=\"1\" class=\"dataframe\">\n",
       "  <thead>\n",
       "    <tr style=\"text-align: right;\">\n",
       "      <th></th>\n",
       "      <th>doors</th>\n",
       "      <th>year</th>\n",
       "      <th>trim</th>\n",
       "      <th>Count</th>\n",
       "    </tr>\n",
       "  </thead>\n",
       "  <tbody>\n",
       "    <tr>\n",
       "      <th>0</th>\n",
       "      <td>2.0</td>\n",
       "      <td>2023</td>\n",
       "      <td>Grand Touring</td>\n",
       "      <td>1</td>\n",
       "    </tr>\n",
       "    <tr>\n",
       "      <th>1</th>\n",
       "      <td>2.0</td>\n",
       "      <td>2023</td>\n",
       "      <td>Tradesman</td>\n",
       "      <td>1</td>\n",
       "    </tr>\n",
       "    <tr>\n",
       "      <th>2</th>\n",
       "      <td>2.0</td>\n",
       "      <td>2024</td>\n",
       "      <td>P400 X-Dynamic SE</td>\n",
       "      <td>1</td>\n",
       "    </tr>\n",
       "    <tr>\n",
       "      <th>3</th>\n",
       "      <td>2.0</td>\n",
       "      <td>2024</td>\n",
       "      <td>Pro</td>\n",
       "      <td>2</td>\n",
       "    </tr>\n",
       "    <tr>\n",
       "      <th>4</th>\n",
       "      <td>2.0</td>\n",
       "      <td>2024</td>\n",
       "      <td>Tradesman</td>\n",
       "      <td>3</td>\n",
       "    </tr>\n",
       "    <tr>\n",
       "      <th>...</th>\n",
       "      <td>...</td>\n",
       "      <td>...</td>\n",
       "      <td>...</td>\n",
       "      <td>...</td>\n",
       "    </tr>\n",
       "    <tr>\n",
       "      <th>219</th>\n",
       "      <td>4.0</td>\n",
       "      <td>2024</td>\n",
       "      <td>xDrive40i</td>\n",
       "      <td>3</td>\n",
       "    </tr>\n",
       "    <tr>\n",
       "      <th>220</th>\n",
       "      <td>4.0</td>\n",
       "      <td>2025</td>\n",
       "      <td>3.3 Turbo S Premium</td>\n",
       "      <td>1</td>\n",
       "    </tr>\n",
       "    <tr>\n",
       "      <th>221</th>\n",
       "      <td>4.0</td>\n",
       "      <td>2025</td>\n",
       "      <td>Platinum</td>\n",
       "      <td>1</td>\n",
       "    </tr>\n",
       "    <tr>\n",
       "      <th>222</th>\n",
       "      <td>4.0</td>\n",
       "      <td>2025</td>\n",
       "      <td>xDrive40i</td>\n",
       "      <td>1</td>\n",
       "    </tr>\n",
       "    <tr>\n",
       "      <th>223</th>\n",
       "      <td>5.0</td>\n",
       "      <td>2024</td>\n",
       "      <td>EV400 R-Dynamic HSE</td>\n",
       "      <td>1</td>\n",
       "    </tr>\n",
       "  </tbody>\n",
       "</table>\n",
       "<p>224 rows × 4 columns</p>\n",
       "</div>"
      ],
      "text/plain": [
       "     doors  year                 trim  Count\n",
       "0      2.0  2023        Grand Touring      1\n",
       "1      2.0  2023            Tradesman      1\n",
       "2      2.0  2024    P400 X-Dynamic SE      1\n",
       "3      2.0  2024                  Pro      2\n",
       "4      2.0  2024            Tradesman      3\n",
       "..     ...   ...                  ...    ...\n",
       "219    4.0  2024            xDrive40i      3\n",
       "220    4.0  2025  3.3 Turbo S Premium      1\n",
       "221    4.0  2025             Platinum      1\n",
       "222    4.0  2025            xDrive40i      1\n",
       "223    5.0  2024  EV400 R-Dynamic HSE      1\n",
       "\n",
       "[224 rows x 4 columns]"
      ]
     },
     "execution_count": 26,
     "metadata": {},
     "output_type": "execute_result"
    }
   ],
   "source": [
    "ratings"
   ]
  },
  {
   "cell_type": "code",
   "execution_count": 27,
   "id": "dfcb79ee-2b03-4497-adfb-df96c206fc5b",
   "metadata": {},
   "outputs": [
    {
     "data": {
      "text/html": [
       "<div>\n",
       "<style scoped>\n",
       "    .dataframe tbody tr th:only-of-type {\n",
       "        vertical-align: middle;\n",
       "    }\n",
       "\n",
       "    .dataframe tbody tr th {\n",
       "        vertical-align: top;\n",
       "    }\n",
       "\n",
       "    .dataframe thead th {\n",
       "        text-align: right;\n",
       "    }\n",
       "</style>\n",
       "<table border=\"1\" class=\"dataframe\">\n",
       "  <thead>\n",
       "    <tr style=\"text-align: right;\">\n",
       "      <th></th>\n",
       "      <th>doors</th>\n",
       "      <th>year</th>\n",
       "      <th>trim</th>\n",
       "      <th>Count</th>\n",
       "    </tr>\n",
       "  </thead>\n",
       "  <tbody>\n",
       "    <tr>\n",
       "      <th>0</th>\n",
       "      <td>2.0</td>\n",
       "      <td>2023</td>\n",
       "      <td>Grand Touring</td>\n",
       "      <td>1</td>\n",
       "    </tr>\n",
       "    <tr>\n",
       "      <th>1</th>\n",
       "      <td>2.0</td>\n",
       "      <td>2023</td>\n",
       "      <td>Tradesman</td>\n",
       "      <td>1</td>\n",
       "    </tr>\n",
       "    <tr>\n",
       "      <th>2</th>\n",
       "      <td>2.0</td>\n",
       "      <td>2024</td>\n",
       "      <td>P400 X-Dynamic SE</td>\n",
       "      <td>1</td>\n",
       "    </tr>\n",
       "    <tr>\n",
       "      <th>3</th>\n",
       "      <td>2.0</td>\n",
       "      <td>2024</td>\n",
       "      <td>Pro</td>\n",
       "      <td>2</td>\n",
       "    </tr>\n",
       "    <tr>\n",
       "      <th>4</th>\n",
       "      <td>2.0</td>\n",
       "      <td>2024</td>\n",
       "      <td>Tradesman</td>\n",
       "      <td>3</td>\n",
       "    </tr>\n",
       "  </tbody>\n",
       "</table>\n",
       "</div>"
      ],
      "text/plain": [
       "   doors  year               trim  Count\n",
       "0    2.0  2023      Grand Touring      1\n",
       "1    2.0  2023          Tradesman      1\n",
       "2    2.0  2024  P400 X-Dynamic SE      1\n",
       "3    2.0  2024                Pro      2\n",
       "4    2.0  2024          Tradesman      3"
      ]
     },
     "execution_count": 27,
     "metadata": {},
     "output_type": "execute_result"
    }
   ],
   "source": [
    "ratings.head()"
   ]
  },
  {
   "cell_type": "code",
   "execution_count": 28,
   "id": "f538124c-36fb-4c6c-84c2-a439f05d0a06",
   "metadata": {},
   "outputs": [
    {
     "data": {
      "text/plain": [
       "<Axes: xlabel='trim', ylabel='Count'>"
      ]
     },
     "execution_count": 28,
     "metadata": {},
     "output_type": "execute_result"
    },
    {
     "data": {
      "image/png": "[encoded data removed]",
      "text/plain": [
       "<Figure size 640x480 with 1 Axes>"
      ]
     },
     "metadata": {},
     "output_type": "display_data"
    }
   ],
   "source": [
    "sns.barplot(x=\"trim\",y=\"Count\",data=ratings,errorbar=None)"
   ]
  },
  {
   "cell_type": "code",
   "execution_count": 29,
   "id": "410d8942-6d94-454b-89cd-7b0aa99b3b57",
   "metadata": {},
   "outputs": [
    {
     "data": {
      "text/plain": [
       "<Axes: xlabel='trim', ylabel='Count'>"
      ]
     },
     "execution_count": 29,
     "metadata": {},
     "output_type": "execute_result"
    },
    {
     "data": {
      "image/png": "[encoded data removed]",
      "text/plain": [
       "<Figure size 1200x600 with 1 Axes>"
      ]
     },
     "metadata": {},
     "output_type": "display_data"
    }
   ],
   "source": [
    "import matplotlib\n",
    "matplotlib.rcParams['figure.figsize']=(12, 6)\n",
    "sns.barplot(x=\"trim\",y=\"Count\",data=ratings,errorbar=None)"
   ]
  },
  {
   "cell_type": "code",
   "execution_count": 30,
   "id": "027679b5-c0fa-46f5-8cff-655f42f3d663",
   "metadata": {},
   "outputs": [
    {
     "data": {
      "text/plain": [
       "<bound method IndexOpsMixin.value_counts of 0       4.0\n",
       "1       4.0\n",
       "2       4.0\n",
       "3       4.0\n",
       "4       4.0\n",
       "       ... \n",
       "997     3.0\n",
       "998     4.0\n",
       "999     4.0\n",
       "1000    4.0\n",
       "1001    4.0\n",
       "Name: doors, Length: 1002, dtype: float64>"
      ]
     },
     "execution_count": 30,
     "metadata": {},
     "output_type": "execute_result"
    }
   ],
   "source": [
    "df.doors.value_counts"
   ]
  },
  {
   "cell_type": "code",
   "execution_count": 31,
   "id": "477ae94b-b8d1-41c3-becc-ced20c3c6ffa",
   "metadata": {},
   "outputs": [
    {
     "data": {
      "text/plain": [
       "Index([4.0, 3.0, 2.0, 5.0], dtype='float64', name='doors')"
      ]
     },
     "execution_count": 31,
     "metadata": {},
     "output_type": "execute_result"
    }
   ],
   "source": [
    "df.doors.value_counts().index"
   ]
  },
  {
   "cell_type": "code",
   "execution_count": 32,
   "id": "8b785364-7588-477b-af49-62f8b4488990",
   "metadata": {},
   "outputs": [],
   "source": [
    "doors_values=df.doors.value_counts().values\n",
    "doors_labels=df.doors.value_counts().index"
   ]
  },
  {
   "cell_type": "code",
   "execution_count": 33,
   "id": "8224cff1-8857-480e-b868-48c3ecb591f5",
   "metadata": {},
   "outputs": [
    {
     "data": {
      "text/plain": [
       "([<matplotlib.patches.Wedge at 0x19fcbd32ad0>,\n",
       "  <matplotlib.patches.Wedge at 0x19fcbd32d50>,\n",
       "  <matplotlib.patches.Wedge at 0x19fcbd32fd0>,\n",
       "  <matplotlib.patches.Wedge at 0x19fcbd33250>],\n",
       " [Text(-1.0873914196377386, 0.16607197384936442, '4.0'),\n",
       "  Text(1.0809689092832033, -0.20373074672979974, '3.0'),\n",
       "  Text(1.0992105346049303, -0.0416677406820108, '2.0'),\n",
       "  Text(1.0999945168166767, -0.0034731791267230017, '5.0')])"
      ]
     },
     "execution_count": 33,
     "metadata": {},
     "output_type": "execute_result"
    },
    {
     "data": {
      "image/png": "[encoded data removed]",
      "text/plain": [
       "<Figure size 1200x600 with 1 Axes>"
      ]
     },
     "metadata": {},
     "output_type": "display_data"
    }
   ],
   "source": [
    "plt.pie(doors_values,labels=doors_labels)"
   ]
  },
  {
   "cell_type": "code",
   "execution_count": null,
   "id": "8a11d7ea-88bb-4b97-9cee-04d64644d40d",
   "metadata": {},
   "outputs": [],
   "source": []
  }
 ],
 "metadata": {
  "kernelspec": {
   "display_name": "PYSPARK_KERNEL",
   "language": "python",
   "name": "pyspark_kernel"
  },
  "language_info": {
   "codemirror_mode": {
    "name": "ipython",
    "version": 3
   },
   "file_extension": ".py",
   "mimetype": "text/x-python",
   "name": "python",
   "nbconvert_exporter": "python",
   "pygments_lexer": "ipython3",
   "version": "3.13.5"
  }
 },
 "nbformat": 4,
 "nbformat_minor": 5
}
